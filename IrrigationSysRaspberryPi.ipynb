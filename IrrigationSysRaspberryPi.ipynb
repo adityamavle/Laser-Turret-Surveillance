{
  "nbformat": 4,
  "nbformat_minor": 0,
  "metadata": {
    "colab": {
      "provenance": [],
      "authorship_tag": "ABX9TyM7/WK5eNjrclXdXefMNQxw",
      "include_colab_link": true
    },
    "kernelspec": {
      "name": "python3",
      "display_name": "Python 3"
    },
    "language_info": {
      "name": "python"
    }
  },
  "cells": [
    {
      "cell_type": "markdown",
      "metadata": {
        "id": "view-in-github",
        "colab_type": "text"
      },
      "source": [
        "<a href=\"https://colab.research.google.com/github/adityamavle/Laser-Turret-Surveillance/blob/main/IrrigationSysRaspberryPi.ipynb\" target=\"_parent\"><img src=\"https://colab.research.google.com/assets/colab-badge.svg\" alt=\"Open In Colab\"/></a>"
      ]
    },
    {
      "cell_type": "markdown",
      "source": [
        "### Raspberry Pi input data"
      ],
      "metadata": {
        "id": "0UU7Zfo_nU4Y"
      }
    },
    {
      "cell_type": "code",
      "execution_count": null,
      "metadata": {
        "id": "s_9WdRdUm8lB"
      },
      "outputs": [],
      "source": [
        "import os\n",
        "import time\n",
        "import pandas as pd\n",
        "from w1thermsensor import W1ThermSensor\n",
        "import Adafruit_DHT\n",
        "import Adafruit_GPIO.SPI as SPI\n",
        "import Adafruit_MCP3008\n",
        "\n",
        "# Set the GPIO pin number for each sensor\n",
        "soil_moisture_pin = 4\n",
        "temperature_sensor = W1ThermSensor()\n",
        "humidity_sensor_pin = 4\n",
        "light_sensor_pin = 0\n",
        "pH_sensor_pin = 1\n",
        "rain_sensor_pin = 3\n",
        "\n",
        "# Set the parameters for the DHT22 humidity sensor\n",
        "humidity_sensor = Adafruit_DHT.DHT22\n",
        "\n",
        "# Set the parameters for the MCP3008 ADC\n",
        "CLK  = 11\n",
        "MISO = 9\n",
        "MOSI = 10\n",
        "CS   = 8\n",
        "mcp = Adafruit_MCP3008.MCP3008(clk=CLK, cs=CS, miso=MISO, mosi=MOSI)\n",
        "\n",
        "# Initialize the Pandas DataFrame\n",
        "data = pd.DataFrame(columns=[\"Soil Moisture\", \"Temperature\", \"Humidity\", \"Light\", \"pH\", \"Rain\"])\n",
        "\n",
        "# Function to read data from the soil moisture sensor\n",
        "def read_soil_moisture(pin):\n",
        "    return # code to read data from soil moisture sensor\n",
        "\n",
        "# Function to read data from the temperature sensor\n",
        "def read_temperature():\n",
        "    temperature = temperature_sensor.get_temperature()\n",
        "    return temperature\n",
        "\n",
        "# Function to read data from the humidity sensor\n",
        "def read_humidity(pin):\n",
        "    humidity, temperature = Adafruit_DHT.read_retry(humidity_sensor, pin)\n",
        "    return humidity\n",
        "\n",
        "# Function to read data from the light sensor\n",
        "def read_light(pin):\n",
        "    light_level = mcp.read_adc(pin)\n",
        "    return light_level\n",
        "\n",
        "# Function to read data from the pH sensor\n",
        "def read_pH(pin):\n",
        "    pH_level = mcp.read_adc(pin)\n",
        "    return pH_level\n",
        "\n",
        "# Function to read data from the rain sensor\n",
        "def read_rain(pin):\n",
        "    rain = # code to read data from rain sensor\n",
        "    return rain\n",
        "\n",
        "while True:\n",
        "    # Read data from each sensor\n",
        "    soil_moisture = read_soil_moisture(soil_moisture_pin)\n",
        "    temperature = read_temperature()\n",
        "    humidity = read_humidity(humidity_sensor_pin)\n",
        "    light = read_light(light_sensor_pin)\n",
        "    pH = read_pH(pH_sensor_pin)\n",
        "    rain = read_rain(rain_sensor_pin)\n",
        "\n",
        "    # Append the data to the Pandas DataFrame\n",
        "    data = data.append({\"Soil Moisture\": soil_moisture, \"Temperature\": temperature, \"Humidity\": humidity, \"Light\": light, \"pH\": pH, \"Rain\": rain}, ignore_index=True)\n",
        "\n",
        "    # Save the DataFrame to a CSV file\n",
        "    data.to_csv(\"irrigation_data.csv\", index=False)\n",
        "\n",
        "    # Wait for 1 second before reading the next data\n",
        "    time.sleep(1)\n"
      ]
    },
    {
      "cell_type": "code",
      "source": [],
      "metadata": {
        "id": "0xU8AwW5ney4"
      },
      "execution_count": null,
      "outputs": []
    }
  ]
}